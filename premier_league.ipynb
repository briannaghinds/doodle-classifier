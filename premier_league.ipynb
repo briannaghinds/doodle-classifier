{
 "cells": [
  {
   "cell_type": "code",
   "execution_count": 75,
   "metadata": {},
   "outputs": [],
   "source": [
    "# EPL Soccer Match Predictor"
   ]
  },
  {
   "cell_type": "code",
   "execution_count": 76,
   "metadata": {},
   "outputs": [],
   "source": [
    "import pandas as pd\n",
    "# import datetime\n",
    "import matplotlib.pyplot as plt\n",
    "import numpy as np\n",
    "import seaborn as sns\n",
    "import torch\n",
    "import torch.nn as nn\n",
    "import torch.nn.functional as F"
   ]
  },
  {
   "cell_type": "code",
   "execution_count": 77,
   "metadata": {},
   "outputs": [],
   "source": [
    "epl = pd.read_csv(\"datasets/EPL_dataset.csv\") # DATE: d/m/y"
   ]
  },
  {
   "cell_type": "markdown",
   "metadata": {},
   "source": [
    "# Data Cleaning"
   ]
  },
  {
   "cell_type": "code",
   "execution_count": null,
   "metadata": {},
   "outputs": [],
   "source": [
    "epl.head()"
   ]
  },
  {
   "cell_type": "code",
   "execution_count": null,
   "metadata": {},
   "outputs": [],
   "source": [
    "# cleaning/deleting columns\n",
    "epl[\"date\"] = pd.to_datetime(epl[\"Date\"])\n",
    "del epl[\"Unnamed: 0\"]\n",
    "del epl[\"Date\"]\n",
    "\n",
    "# create columns for our target value, venue, day\n",
    "epl[\"target\"] = (epl[\"FTR\"] == \"H\").astype(\"int\")\n",
    "epl[\"home_team\"] = (epl[\"HomeTeam\"]).astype(\"category\").cat.codes\n",
    "epl[\"away_team\"] = (epl[\"AwayTeam\"]).astype(\"category\").cat.codes\n",
    "epl[\"day\"] = epl[\"date\"].dt.day_of_week"
   ]
  },
  {
   "cell_type": "code",
   "execution_count": null,
   "metadata": {},
   "outputs": [],
   "source": [
    "epl.head()"
   ]
  },
  {
   "cell_type": "markdown",
   "metadata": {},
   "source": [
    "# Predictor"
   ]
  },
  {
   "cell_type": "code",
   "execution_count": 147,
   "metadata": {},
   "outputs": [],
   "source": [
    "from sklearn.model_selection import train_test_split\n",
    "from sklearn.metrics import accuracy_score, classification_report\n",
    "from sklearn.ensemble import RandomForestClassifier\n",
    "from sklearn.model_selection import GridSearchCV"
   ]
  },
  {
   "cell_type": "code",
   "execution_count": 82,
   "metadata": {},
   "outputs": [],
   "source": [
    "# X: home team, opponent, day of week\n",
    "# y: 0 for lose/draw, 1 for win\n",
    "X = epl[[\"home_team\", \"away_team\", \"day\"]]\n",
    "y = epl[\"target\"]\n",
    "\n",
    "X_train, X_test, y_train, y_test = train_test_split(X, y, test_size=0.2, random_state=42)\n",
    "# match_predictor = RandomForestClassifier(n_jobs=-1, random_state=42)"
   ]
  },
  {
   "cell_type": "code",
   "execution_count": 100,
   "metadata": {},
   "outputs": [],
   "source": [
    "# ANN model\n",
    "class EPL_ANN(nn.Module):\n",
    "    def __init__(self, input=3, hidden=100, output=1):\n",
    "        super(EPL_ANN, self).__init__()\n",
    "        torch.manual_seed(12345)\n",
    "\n",
    "        self.input = nn.Linear(input, hidden)\n",
    "        self.output = nn.Linear(hidden, output)\n",
    "\n",
    "\n",
    "    def forward(self, x):\n",
    "        x = F.relu(self.input(x))\n",
    "        x = F.sigmoid(self.output(x)) \n",
    "\n",
    "        return x\n"
   ]
  },
  {
   "cell_type": "code",
   "execution_count": 101,
   "metadata": {},
   "outputs": [],
   "source": [
    "X_train = np.array(X_train, dtype=np.float32)\n",
    "X_test = np.array(X_test, dtype=np.float32)\n",
    "y_train = np.array(y_train, dtype=np.float32)\n",
    "y_test = np.array(y_test, dtype=np.float32)\n",
    "\n",
    "torch_x_train = torch.tensor(X_train, dtype=torch.float32)\n",
    "torch_x_test = torch.tensor(X_test, dtype=torch.float32)\n",
    "torch_y_train = torch.tensor(y_train, dtype=torch.float32).unsqueeze(1)\n",
    "torch_y_test = torch.tensor(y_test, dtype=torch.float32).unsqueeze(1)"
   ]
  },
  {
   "cell_type": "code",
   "execution_count": 104,
   "metadata": {},
   "outputs": [],
   "source": [
    "model = EPL_ANN()\n",
    "optimizer = torch.optim.Adam(model.parameters(), lr=0.01)\n",
    "loss_fn = nn.BCELoss()"
   ]
  },
  {
   "cell_type": "code",
   "execution_count": null,
   "metadata": {},
   "outputs": [],
   "source": [
    "int(torch_y_test.sum())"
   ]
  },
  {
   "cell_type": "code",
   "execution_count": null,
   "metadata": {},
   "outputs": [],
   "source": [
    "len(torch_y_test)"
   ]
  },
  {
   "cell_type": "code",
   "execution_count": 120,
   "metadata": {},
   "outputs": [],
   "source": [
    "# train\n",
    "def model_train():\n",
    "    model.train()\n",
    "    output = model(torch_x_train)\n",
    "    loss = loss_fn(output, torch_y_train)\n",
    "    loss.backward()\n",
    "    optimizer.step()\n",
    "    optimizer.zero_grad()\n",
    "\n",
    "    return loss\n",
    "\n",
    "\n",
    "# test\n",
    "def model_test():\n",
    "    model.eval()\n",
    "\n",
    "    with torch.no_grad():\n",
    "        output = model(torch_x_test)\n",
    "        prediction = output.argmax(dim=1)\n",
    "        print(\"0 is a home loss, 1 is a home win\")\n",
    "        print(f\"Given: {torch_x_test[0]}\\t\\tPrediction: {prediction[0]}\")\n",
    "\n",
    "    \n",
    "    # correct = (prediction == torch_y_test)\n",
    "    # print(correct)\n",
    "\n",
    "    # accuracy = int(correct.sum()) / len(torch_x_test)\n",
    "    accuracy = (prediction == torch_y_test).float().mean()\n",
    "\n",
    "    return accuracy\n"
   ]
  },
  {
   "cell_type": "code",
   "execution_count": null,
   "metadata": {},
   "outputs": [],
   "source": [
    "# train\n",
    "epochs = 500\n",
    "for i in range(epochs):\n",
    "    l = model_train()\n",
    "\n",
    "    if i%10==0:\n",
    "        print(f\"Epoch: {i}/{epochs}; Loss: {l}\")\n",
    "\n",
    "# test\n",
    "a = model_test()\n",
    "print(f\"Model Accuracy: {a}\")"
   ]
  },
  {
   "cell_type": "code",
   "execution_count": 109,
   "metadata": {},
   "outputs": [],
   "source": [
    "# # grid search\n",
    "# param_grid = {\n",
    "#     'max_depth': [10, 12, 15, 19, 20, 25, 30, 35],\n",
    "#     'min_samples_leaf': [50, 100, 125, 200],\n",
    "#     'n_estimators': [100, 125, 150, 200, 225, 250]\n",
    "# }\n",
    "\n",
    "# grid_search = GridSearchCV(estimator=match_predictor,\n",
    "#                            param_grid=param_grid,\n",
    "#                            cv = 4,\n",
    "#                            n_jobs=-1, verbose=1, scoring=\"accuracy\")\n",
    "\n",
    "# grid_search.fit(X_train, y_train)\n",
    "# print(f\"Best Params: {grid_search.best_params_}\")\n",
    "# print(f\"Best Score: {grid_search.best_score_}\")                "
   ]
  },
  {
   "cell_type": "code",
   "execution_count": 142,
   "metadata": {},
   "outputs": [],
   "source": [
    "# match_predictor = RandomForestClassifier(n_estimators=200, \n",
    "#                            max_depth=10,\n",
    "#                            min_samples_leaf=50,\n",
    "#                            min_samples_split=10,\n",
    "#                            n_jobs=-1, \n",
    "#                            random_state=42)\n",
    "\n",
    "match_predictor = RandomForestClassifier(n_estimators=500, \n",
    "                           max_depth=50,\n",
    "                           min_samples_leaf=10,\n",
    "                           n_jobs=-1, \n",
    "                           random_state=42)"
   ]
  },
  {
   "cell_type": "code",
   "execution_count": null,
   "metadata": {},
   "outputs": [],
   "source": [
    "match_predictor.fit(X_train, y_train)"
   ]
  },
  {
   "cell_type": "code",
   "execution_count": null,
   "metadata": {},
   "outputs": [],
   "source": [
    "match_predictor.score(X_test, y_test)"
   ]
  },
  {
   "cell_type": "code",
   "execution_count": null,
   "metadata": {},
   "outputs": [],
   "source": [
    "p = match_predictor.predict(X_test)\n",
    "print(accuracy_score(y_test, p))"
   ]
  },
  {
   "cell_type": "code",
   "execution_count": null,
   "metadata": {},
   "outputs": [],
   "source": [
    "print(classification_report(y_test, p))"
   ]
  }
 ],
 "metadata": {
  "kernelspec": {
   "display_name": "Python 3",
   "language": "python",
   "name": "python3"
  },
  "language_info": {
   "codemirror_mode": {
    "name": "ipython",
    "version": 3
   },
   "file_extension": ".py",
   "mimetype": "text/x-python",
   "name": "python",
   "nbconvert_exporter": "python",
   "pygments_lexer": "ipython3",
   "version": "3.11.4"
  }
 },
 "nbformat": 4,
 "nbformat_minor": 2
}
