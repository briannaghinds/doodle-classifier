{
 "cells": [
  {
   "cell_type": "markdown",
   "metadata": {},
   "source": [
    "GAT implementation (node classification) - Cora Dataset\n",
    "\n",
    "https://arxiv.org/pdf/1710.10903 (GAT Research Paper)"
   ]
  },
  {
   "cell_type": "code",
   "execution_count": 1,
   "metadata": {},
   "outputs": [],
   "source": [
    "# dataset\n",
    "from torch_geometric.datasets import Planetoid\n",
    "\n",
    "# torch libraries\n",
    "import torch\n",
    "import torch.nn.functional as F\n",
    "from torch_geometric.nn import GATConv\n",
    "from torch.nn import Linear, Dropout"
   ]
  },
  {
   "cell_type": "code",
   "execution_count": 6,
   "metadata": {},
   "outputs": [
    {
     "name": "stderr",
     "output_type": "stream",
     "text": [
      "Downloading https://github.com/kimiyoung/planetoid/raw/master/data/ind.cora.x\n",
      "Downloading https://github.com/kimiyoung/planetoid/raw/master/data/ind.cora.tx\n",
      "Downloading https://github.com/kimiyoung/planetoid/raw/master/data/ind.cora.allx\n",
      "Downloading https://github.com/kimiyoung/planetoid/raw/master/data/ind.cora.y\n",
      "Downloading https://github.com/kimiyoung/planetoid/raw/master/data/ind.cora.ty\n",
      "Downloading https://github.com/kimiyoung/planetoid/raw/master/data/ind.cora.ally\n",
      "Downloading https://github.com/kimiyoung/planetoid/raw/master/data/ind.cora.graph\n",
      "Downloading https://github.com/kimiyoung/planetoid/raw/master/data/ind.cora.test.index\n",
      "Processing...\n",
      "Done!\n"
     ]
    }
   ],
   "source": [
    "# get the Cora dataset\n",
    "\"\"\"CORA DATASET:\n",
    "    - the Cora datset is a large graph network that shows 2708 scientific publications\n",
    "    our goal is to classify it into 1 of 7 classes\n",
    "\"\"\"\n",
    "dataset = Planetoid(root=\".\", name=\"Cora\")\n",
    "cora = dataset[0]"
   ]
  },
  {
   "cell_type": "code",
   "execution_count": 7,
   "metadata": {},
   "outputs": [
    {
     "data": {
      "text/plain": [
       "Data(x=[2708, 1433], edge_index=[2, 10556], y=[2708], train_mask=[2708], val_mask=[2708], test_mask=[2708])"
      ]
     },
     "execution_count": 7,
     "metadata": {},
     "output_type": "execute_result"
    }
   ],
   "source": [
    "cora"
   ]
  },
  {
   "cell_type": "code",
   "execution_count": null,
   "metadata": {},
   "outputs": [],
   "source": [
    "# GAT class\n",
    "class CoraGAT(torch.nn.Module):\n",
    "    def __init__(self, input, hidden, output, heads=8):\n",
    "        \"\"\"PARAMETERS:\n",
    "            input : the number of features for each node in the graph\n",
    "            hidden : size of the hidden layer (needs to be tuned) -> defined as hidden*heads\n",
    "            output : the number of output features\n",
    "            heads : defined to be 8, number of attention heads (each head learns a different type of attention pattern)\n",
    "        \"\"\"\n",
    "        super().__init__(CoraGAT, self)\n",
    "\n",
    "        # first GAT layer with 8 attention heads\n",
    "        self.conv1 = GATConv(\n",
    "            input,\n",
    "            hidden,\n",
    "            heads=heads,\n",
    "            dropout=0.6\n",
    "        )\n",
    "\n",
    "        # second GAT layer with 1 attention head\n",
    "        self.conv2 = GATConv(\n",
    "            hidden*heads,\n",
    "            output,\n",
    "            heads=1,\n",
    "            concat=False,\n",
    "            dropout=0.6\n",
    "        )\n",
    "\n",
    "    def forward(self, x, edge_index):\n",
    "        # first GAT layer\n",
    "        x = F.dropout(x, p=0.6, training=self.training)\n",
    "        x = self.conv1(x, edge_index)\n",
    "        x = F.elu(x)\n",
    "\n",
    "        # second GAT layer\n",
    "        x = F.dropout(x, p=0.6, training=self.training)\n",
    "        x = self.conv2(x, edge_index)\n",
    "\n",
    "        return F.log_softmax(x, dim=1)\n",
    "\n"
   ]
  },
  {
   "cell_type": "code",
   "execution_count": null,
   "metadata": {},
   "outputs": [],
   "source": [
    "# analysis class\n",
    "class CoraAnalysis:\n",
    "    def __init__(self, ):\n",
    "        pass\n",
    "\n",
    "    def train_model(self):\n",
    "        pass\n",
    "\n",
    "    @torch.no_grad\n",
    "    def test_model(self):\n",
    "        pass\n",
    "\n"
   ]
  },
  {
   "cell_type": "code",
   "execution_count": null,
   "metadata": {},
   "outputs": [],
   "source": []
  }
 ],
 "metadata": {
  "kernelspec": {
   "display_name": "Python 3",
   "language": "python",
   "name": "python3"
  },
  "language_info": {
   "codemirror_mode": {
    "name": "ipython",
    "version": 3
   },
   "file_extension": ".py",
   "mimetype": "text/x-python",
   "name": "python",
   "nbconvert_exporter": "python",
   "pygments_lexer": "ipython3",
   "version": "3.11.4"
  }
 },
 "nbformat": 4,
 "nbformat_minor": 2
}
